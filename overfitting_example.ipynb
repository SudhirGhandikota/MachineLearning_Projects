{
 "cells": [
  {
   "cell_type": "code",
   "execution_count": 1,
   "metadata": {
    "collapsed": true
   },
   "outputs": [],
   "source": [
    "import numpy as np"
   ]
  },
  {
   "cell_type": "code",
   "execution_count": 3,
   "metadata": {
    "collapsed": true
   },
   "outputs": [],
   "source": [
    "import matplotlib.pyplot as plt"
   ]
  },
  {
   "cell_type": "code",
   "execution_count": 4,
   "metadata": {
    "collapsed": false
   },
   "outputs": [
    {
     "data": {
      "text/plain": [
       "3.141592653589793"
      ]
     },
     "execution_count": 4,
     "metadata": {},
     "output_type": "execute_result"
    }
   ],
   "source": [
    "np.pi"
   ]
  },
  {
   "cell_type": "code",
   "execution_count": 6,
   "metadata": {
    "collapsed": false
   },
   "outputs": [],
   "source": [
    "#generating some random data\n",
    "N = 100\n",
    "X = np.linspace(0,6*np.pi,N)#returns 100 points between 0 and 6*pi(i.e 6 * 3.14)"
   ]
  },
  {
   "cell_type": "code",
   "execution_count": 7,
   "metadata": {
    "collapsed": true
   },
   "outputs": [],
   "source": [
    "Y = np.sin(X)"
   ]
  },
  {
   "cell_type": "code",
   "execution_count": 8,
   "metadata": {
    "collapsed": false
   },
   "outputs": [
    {
     "data": {
      "text/plain": [
       "[<matplotlib.lines.Line2D at 0x24d7c3a1390>]"
      ]
     },
     "execution_count": 8,
     "metadata": {},
     "output_type": "execute_result"
    }
   ],
   "source": [
    "plt.plot(X,Y)"
   ]
  },
  {
   "cell_type": "code",
   "execution_count": 9,
   "metadata": {
    "collapsed": true
   },
   "outputs": [],
   "source": [
    "plt.show()"
   ]
  },
  {
   "cell_type": "code",
   "execution_count": 23,
   "metadata": {
    "collapsed": true
   },
   "outputs": [],
   "source": [
    "#method which adds a column of 1's and the polynomial terms of the specified degree to the original input\n",
    "def make_poly(X,deg):\n",
    "    n = len(X)\n",
    "    data = [np.ones(n)]\n",
    "    for d in range(deg):#appending polynomial terms\n",
    "        data.append(X**(d+1))\n",
    "    return np.vstack(data).T"
   ]
  },
  {
   "cell_type": "code",
   "execution_count": 13,
   "metadata": {
    "collapsed": true
   },
   "outputs": [],
   "source": [
    "#method returns the solution to linear regression i.e the weight vector\n",
    "def fit(X,Y):\n",
    "    return np.linalg.solve(X.T.dot(X),X.T.dot(Y))"
   ]
  },
  {
   "cell_type": "code",
   "execution_count": 41,
   "metadata": {
    "collapsed": true
   },
   "outputs": [],
   "source": [
    "#method takes a 'sample' number of points to form training and test datasets. We also find best weights for polynomial of given degree 'deg' and also plot the polynomial along with training sample\n",
    "def fit_and_display(X,Y,sample,deg):\n",
    "    N = len(X)\n",
    "    train_idx = np.random.choice(N,sample)#gets sample number of indexes\n",
    "    Xtrain = X[train_idx]#training inputs\n",
    "    Ytrain = Y[train_idx]#training output\n",
    "    plt.scatter(Xtrain,Ytrain)\n",
    "    plt.show()\n",
    "    print (\"plot shown\")\n",
    "    #fit polynomial\n",
    "    Xtrain_poly = make_poly(Xtrain,deg)\n",
    "    W = fit(Xtrain_poly,Ytrain)\n",
    "    #display polynomial, checking how the trained model fits the entire data\n",
    "    Xpoly = make_poly(X,deg)\n",
    "    Yhat = Xpoly.dot(W)\n",
    "    plt.plot(X,Y)#plotting the original plot(sin wave)\n",
    "    plt.plot(X,Yhat)#plotting the fitted model\n",
    "    plt.scatter(Xtrain,Ytrain)#plotting the training data points\n",
    "    plt.title(\"deg=%d\" % deg)\n",
    "    plt.show()"
   ]
  },
  {
   "cell_type": "code",
   "execution_count": 42,
   "metadata": {
    "collapsed": false
   },
   "outputs": [
    {
     "name": "stdout",
     "output_type": "stream",
     "text": [
      "plot shown\n"
     ]
    }
   ],
   "source": [
    "fit_and_display(X,Y,10,5)"
   ]
  },
  {
   "cell_type": "code",
   "execution_count": 15,
   "metadata": {
    "collapsed": true
   },
   "outputs": [],
   "source": [
    "def get_mse(Y,Yhat):\n",
    "    d = Y - Yhat\n",
    "    return d.dot(d)/len(d)"
   ]
  },
  {
   "cell_type": "code",
   "execution_count": 46,
   "metadata": {
    "collapsed": true
   },
   "outputs": [],
   "source": [
    "#method takes a training set of 20 points and tests polynomial models from 1 to 20 degrees and plots test and training errors\n",
    "def plot_train_vs_test_curves(X,Y,sample=20,max_deg=20):\n",
    "    N = len(X)\n",
    "    train_idx = np.random.choice(N,sample)#extracting training set in random\n",
    "    Xtrain = X[train_idx]\n",
    "    Ytrain = Y[train_idx]\n",
    "    test_idx = [idx for idx in range(N) if idx not in train_idx]#rest of indexes make the test set\n",
    "    Xtest = X[test_idx]\n",
    "    Ytest = Y[test_idx]\n",
    "    mse_trains = []\n",
    "    mse_tests = []\n",
    "    for deg in range(max_deg+1):\n",
    "        Xtrain_poly = make_poly(Xtrain,deg)\n",
    "        W = fit(Xtrain_poly,Ytrain)\n",
    "        Yhat_train = Xtrain_poly.dot(W)\n",
    "        mse_train = get_mse(Ytrain,Yhat_train)\n",
    "        \n",
    "        Xtest_poly = make_poly(Xtest,deg)\n",
    "        Yhat_test = Xtest_poly.dot(W)\n",
    "        mse_test = get_mse(Ytest,Yhat_test)\n",
    "        \n",
    "        mse_trains.append(mse_train)\n",
    "        mse_tests.append(mse_test)\n",
    "    plt.plot(mse_trains, label=\"train mse\")\n",
    "    plt.plot(mse_tests, label=\"test mse\")\n",
    "    plt.legend()\n",
    "    plt.show()\n",
    "    \n",
    "    plt.plot(mse_trains, label=\"train mse\")\n",
    "    plt.legend()\n",
    "    plt.show()"
   ]
  },
  {
   "cell_type": "code",
   "execution_count": 47,
   "metadata": {
    "collapsed": true
   },
   "outputs": [],
   "source": [
    "plot_train_vs_test_curves(X,Y)"
   ]
  },
  {
   "cell_type": "code",
   "execution_count": null,
   "metadata": {
    "collapsed": true
   },
   "outputs": [],
   "source": []
  }
 ],
 "metadata": {
  "kernelspec": {
   "display_name": "Python [Root]",
   "language": "python",
   "name": "Python [Root]"
  },
  "language_info": {
   "codemirror_mode": {
    "name": "ipython",
    "version": 3
   },
   "file_extension": ".py",
   "mimetype": "text/x-python",
   "name": "python",
   "nbconvert_exporter": "python",
   "pygments_lexer": "ipython3",
   "version": "3.5.2"
  }
 },
 "nbformat": 4,
 "nbformat_minor": 0
}
